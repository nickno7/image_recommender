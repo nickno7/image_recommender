{
 "cells": [
  {
   "cell_type": "code",
   "execution_count": 1,
   "metadata": {},
   "outputs": [],
   "source": [
    "import os\n",
    "import pandas as pd\n",
    "import pickle\n",
    "from tqdm import tqdm"
   ]
  },
  {
   "cell_type": "code",
   "execution_count": 2,
   "metadata": {},
   "outputs": [
    {
     "name": "stdout",
     "output_type": "stream",
     "text": [
      "True\n"
     ]
    }
   ],
   "source": [
    "# find the current path\n",
    "current_directory = os.path.dirname(os.path.abspath('__file__'))\n",
    "\n",
    "image_directory = '/Volumes/T7 Shield/Uni/4. Semester/Big Data Engineering/test_images'\n",
    "\n",
    "if os.path.exists(image_directory):\n",
    "    print(True)"
   ]
  },
  {
   "cell_type": "code",
   "execution_count": 3,
   "metadata": {},
   "outputs": [],
   "source": [
    "# generator\n",
    "def load_images_from_harddrive(root_dir):\n",
    "    for root, dirs, files in os.walk(root_dir):\n",
    "        print(len(files))\n",
    "        for file in files:\n",
    "            if file.lower().endswith((\".jpg\", \".png\", \".jpeg\")):\n",
    "                file_path = os.path.join(root, file)\n",
    "                size = os.path.getsize(file_path)\n",
    "                yield root, file, size\n",
    "\n",
    "gen = load_images_from_harddrive(image_directory)"
   ]
  },
  {
   "cell_type": "code",
   "execution_count": 4,
   "metadata": {},
   "outputs": [],
   "source": [
    "# declare where the pickle file should be saved\n",
    "output_path = os.path.join(current_directory, 'image_info.pkl')"
   ]
  },
  {
   "cell_type": "code",
   "execution_count": 5,
   "metadata": {},
   "outputs": [
    {
     "name": "stderr",
     "output_type": "stream",
     "text": [
      "805it [00:00, 8187.71it/s]"
     ]
    },
    {
     "name": "stdout",
     "output_type": "stream",
     "text": [
      "6\n",
      "312\n",
      "488\n"
     ]
    },
    {
     "name": "stderr",
     "output_type": "stream",
     "text": [
      "\n"
     ]
    }
   ],
   "source": [
    "# Collect image information in a list\n",
    "image_info_list = []\n",
    "image_id = 1\n",
    "\n",
    "# iterate thorugh all images and store the metadata in the list\n",
    "for root, file, size in tqdm(gen):\n",
    "    image_info = {\n",
    "        'image_id': image_id,\n",
    "        'root': root,\n",
    "        'file': file,\n",
    "        'size': size\n",
    "    }\n",
    "    image_info_list.append(image_info)\n",
    "    image_id += 1"
   ]
  },
  {
   "cell_type": "code",
   "execution_count": 6,
   "metadata": {},
   "outputs": [],
   "source": [
    "# Save the list to a pickle file\n",
    "with open(output_path, 'wb') as f:\n",
    "    pickle.dump(image_info_list, f)"
   ]
  }
 ],
 "metadata": {
  "kernelspec": {
   "display_name": "big_data",
   "language": "python",
   "name": "python3"
  },
  "language_info": {
   "codemirror_mode": {
    "name": "ipython",
    "version": 3
   },
   "file_extension": ".py",
   "mimetype": "text/x-python",
   "name": "python",
   "nbconvert_exporter": "python",
   "pygments_lexer": "ipython3",
   "version": "3.10.14 (main, May  6 2024, 14:47:20) [Clang 14.0.6 ]"
  },
  "orig_nbformat": 4,
  "vscode": {
   "interpreter": {
    "hash": "0bdaefcae4d51edb36d86ee85f4d80bbd9d83be5667bbb44a0151f245a70396e"
   }
  }
 },
 "nbformat": 4,
 "nbformat_minor": 2
}
