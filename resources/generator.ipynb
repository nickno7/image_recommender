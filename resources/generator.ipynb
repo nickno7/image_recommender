{
 "cells": [
  {
   "cell_type": "code",
   "execution_count": 1,
   "metadata": {},
   "outputs": [],
   "source": [
    "import sqlite3\n",
    "import os\n",
    "import cv2 as cv \n",
    "from PIL import Image"
   ]
  },
  {
   "cell_type": "markdown",
   "metadata": {},
   "source": [
    "## **CREATE TABLE**\n",
    "-----------------"
   ]
  },
  {
   "cell_type": "code",
   "execution_count": 32,
   "metadata": {},
   "outputs": [],
   "source": [
    "def create_table(dirname, filename):\n",
    "    #set paths and create dir where database is stored\",\n",
    "    database_path = os.path.join(os.pardir, dirname, filename)\n",
    "    database_dir_path = os.path.dirname(database_path)\n",
    "\n",
    "    if not os.path.exists(database_dir_path):\n",
    "        os.makedirs(database_path)\n",
    "    \n",
    "    #create database connection\n",
    "    conn = sqlite3.connect(database_path)\n",
    "    curs = conn.cursor()\n",
    "    \n",
    "    create_table_statement = \"\"\"CREATE TABLE if not exists images\n",
    "                    (imageid INTEGER PRIMARY KEY,\n",
    "                     filepath text not null,\n",
    "                     filename text not null,\n",
    "                     size text not null\n",
    "                     )\"\"\"\n",
    "    \n",
    "    curs.execute(create_table_statement)\n",
    "    \n",
    "    conn.commit()\n",
    "\n",
    "    conn.close()"
   ]
  },
  {
   "cell_type": "markdown",
   "metadata": {},
   "source": [
    "## **FETCH DATA FROM HARDDRIVE**\n",
    "----------------"
   ]
  },
  {
   "cell_type": "code",
   "execution_count": 34,
   "metadata": {},
   "outputs": [
    {
     "name": "stdout",
     "output_type": "stream",
     "text": [
      "False\n"
     ]
    }
   ],
   "source": [
    "#check path to harddrive,\n",
    "root_dir = \"F:\\\\data\\\\image_data\"\n",
    "if os.path.exists(root_dir):\n",
    "    print(True)\n",
    "else:\n",
    "    print(False)"
   ]
  },
  {
   "cell_type": "code",
   "execution_count": 35,
   "metadata": {},
   "outputs": [],
   "source": [
    "#get resolution\n",
    "def get_image_size(image_path):\n",
    "    with Image.open(image_path) as img:\n",
    "        size= img.size\n",
    "    return str(size)"
   ]
  },
  {
   "cell_type": "code",
   "execution_count": 36,
   "metadata": {},
   "outputs": [],
   "source": [
    "#generator\n",
    "def load_images_from_harddrive(root_dir):\n",
    "    for root, dirs, files in os.walk(root_dir):\n",
    "        print(len(files))\n",
    "        for file in files:\n",
    "            if file.lower().endswith((\".jpg\", \".png\", \".jpeg\")):\n",
    "                size = get_image_size(os.path.join(root, file))\n",
    "                yield root, file, size"
   ]
  },
  {
   "cell_type": "markdown",
   "metadata": {},
   "source": [
    "## **INSERT DATA INTO DATABASE**\n",
    "---------------"
   ]
  },
  {
   "cell_type": "code",
   "execution_count": 37,
   "metadata": {},
   "outputs": [],
   "source": [
    "def main(root_dir, database_path, imageid=0):\n",
    "\n",
    "    conn = sqlite3.connect(database_path)\n",
    "    curs = conn.cursor()\n",
    "    \n",
    "    for root, file, size  in load_images_from_harddrive(root_dir):\n",
    "        curs.execute(\"INSERT INTO IMAGES ('imageid', 'filepath', 'filename', 'size') VALUES (?,?,?,?)\", (imageid, root, file, size))\n",
    "        conn.commit()\n",
    "        imageid += 1\n",
    "\n",
    "        if imageid == 200:\n",
    "            break\n",
    "\n",
    "    conn.close()"
   ]
  },
  {
   "cell_type": "code",
   "execution_count": 38,
   "metadata": {},
   "outputs": [],
   "source": [
    "def main_with_range(root_dir, database_path, range=100, imageid=0):\n",
    "\n",
    "        conn = sqlite3.connect(database_path)\n",
    "        curs = conn.cursor()\n",
    "        while imageid > range:\n",
    "                root, file, size = load_images_from_harddrive(root_dir)\n",
    "                curs.execute(\"INSERT INTO IMAGES ('imageid', 'filepath', 'filename', 'size') VALUES (?,?,?,?)\", (imageid, root, file, size))\n",
    "                conn.commit()\n",
    "                imageid += 1\n",
    "        conn.close()"
   ]
  },
  {
   "cell_type": "markdown",
   "metadata": {},
   "source": [
    "### **MAIN**\n",
    "-------"
   ]
  },
  {
   "cell_type": "code",
   "execution_count": 39,
   "metadata": {},
   "outputs": [],
   "source": [
    "root_dir = \"F:\\\\data\\\\image_data\"\n",
    "database_path = os.path.join(os.pardir, \"databases\", \"image_recommender.db\")\n",
    "database_dir_path = os.path.dirname(database_path)\n",
    "\n",
    "\n",
    "create_table(\"databases\", \"image_recommender.db\")\n",
    "#main(root_dir)\n",
    "main_with_range(root_dir, database_path, range=100)"
   ]
  },
  {
   "cell_type": "markdown",
   "metadata": {},
   "source": [
    "## **TEST IF WORKED**\n",
    "------"
   ]
  },
  {
   "cell_type": "code",
   "execution_count": 40,
   "metadata": {},
   "outputs": [],
   "source": [
    "database_path = os.path.join(os.pardir, \"databases\", \"image_recommender.db\")\n",
    "database_dir_path = os.path.dirname(database_path)\n",
    "conn = sqlite3.connect(database_path)\n",
    "curs = conn.cursor()"
   ]
  },
  {
   "cell_type": "code",
   "execution_count": 25,
   "metadata": {},
   "outputs": [],
   "source": [
    "#delete all from table\n",
    "curs.execute(\"DELETE FROM IMAGES\")\n",
    "conn.commit()"
   ]
  },
  {
   "cell_type": "code",
   "execution_count": 31,
   "metadata": {},
   "outputs": [
    {
     "data": {
      "text/plain": [
       "[]"
      ]
     },
     "execution_count": 31,
     "metadata": {},
     "output_type": "execute_result"
    }
   ],
   "source": [
    "# select all \n",
    "curs.execute(\"SELECT * FROM IMAGES\")\n",
    "curs.fetchall()"
   ]
  },
  {
   "cell_type": "code",
   "execution_count": null,
   "metadata": {},
   "outputs": [],
   "source": [
    "#show database\n",
    "def describe_table(curs, table_name, database_dir_path):\n",
    "\n",
    "    # check if table is created\n",
    "    print(f\"Database created: {os.listdir(database_dir_path)}\")\n",
    "\n",
    "\n",
    "    curs.execute(f\"PRAGMA table_info({table_name}\")\n",
    "    return curs.fetchall()\n",
    "\n",
    "table_structure = describe_table(curs, \"images\")\n"
   ]
  },
  {
   "cell_type": "code",
   "execution_count": null,
   "metadata": {},
   "outputs": [],
   "source": [
    "#delete table if needed\n",
    "table_name = [\"images\"]\n",
    "for name in table_name:\n",
    "    curs.execute(f\"DROP TABLE if exists {name}\")"
   ]
  },
  {
   "cell_type": "code",
   "execution_count": null,
   "metadata": {},
   "outputs": [],
   "source": [
    "#test to retrieve pictures from database\",\n",
    "curs.execute(\"SELECT filepath, filename FROM IMAGES\")\n",
    "firstpic = curs.fetchall()[0]\n",
    "path = os.path.join(firstpic[0], firstpic[1])\n",
    "image = Image.open(path)\n",
    "image.show()"
   ]
  }
 ],
 "metadata": {
  "kernelspec": {
   "display_name": "base",
   "language": "python",
   "name": "python3"
  },
  "language_info": {
   "codemirror_mode": {
    "name": "ipython",
    "version": 3
   },
   "file_extension": ".py",
   "mimetype": "text/x-python",
   "name": "python",
   "nbconvert_exporter": "python",
   "pygments_lexer": "ipython3",
   "version": "3.10.14"
  }
 },
 "nbformat": 4,
 "nbformat_minor": 2
}
