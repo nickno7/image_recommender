{
 "cells": [
  {
   "cell_type": "code",
   "execution_count": 10,
   "metadata": {},
   "outputs": [],
   "source": [
    "import sqlite3\n",
    "import os"
   ]
  },
  {
   "cell_type": "code",
   "execution_count": 15,
   "metadata": {},
   "outputs": [],
   "source": [
    "#create path\n",
    "database_path = os.path.join(os.pardir, \"databases\", \"image_recommender.db\")\n",
    "database_dir = os.path.dirname(database_path)\n",
    "\n",
    "if not os.path.exists(database_dir):\n",
    "    os.makedirs(database_dir)\n",
    "\n",
    "conn = sqlite3.connect(database_path)\n",
    "curs = conn.cursor()"
   ]
  },
  {
   "cell_type": "code",
   "execution_count": 16,
   "metadata": {},
   "outputs": [],
   "source": [
    "#delete table if needed \n",
    "table_name = [\"images\", \"scores\"]\n",
    "\n",
    "for name in table_name:\n",
    "    curs.execute(f\"DROP TABLE if exists {name}\")"
   ]
  },
  {
   "cell_type": "code",
   "execution_count": 17,
   "metadata": {},
   "outputs": [],
   "source": [
    "#create table paths\n",
    "create_table = curs.execute(\"\"\"CREATE TABLE if not exists images\n",
    "             (imageid INTEGER PRIMARY KEY,\n",
    "             filepath text not null,\n",
    "             filename text not null);\"\"\")\n",
    "\n",
    "conn.commit()"
   ]
  },
  {
   "cell_type": "code",
   "execution_count": 18,
   "metadata": {},
   "outputs": [],
   "source": [
    "# #create table similarities\n",
    "\n",
    "# create_table2 = curs.execute(\"\"\"CREATE TABLE if not exists scores\n",
    "#              (imageid INTEGER PRIMARY KEY,\n",
    "#              color_similarity real,\n",
    "#              embedding_similarity real,\n",
    "#              third_similarity real,\n",
    "#              FOREIGN KEY (imageid) references images(imageid) ON DELETE CASCADE);\"\"\")\n",
    "\n",
    "# conn.commit()"
   ]
  },
  {
   "cell_type": "code",
   "execution_count": 21,
   "metadata": {},
   "outputs": [
    {
     "name": "stdout",
     "output_type": "stream",
     "text": [
      "Database created: ['image_recommender.db']\n",
      "Tables: [('images',)]\n"
     ]
    },
    {
     "data": {
      "text/plain": [
       "[(0, 'imageid', 'INTEGER', 0, None, 1),\n",
       " (1, 'filepath', 'TEXT', 1, None, 0),\n",
       " (2, 'filename', 'TEXT', 1, None, 0)]"
      ]
     },
     "execution_count": 21,
     "metadata": {},
     "output_type": "execute_result"
    }
   ],
   "source": [
    "# check if table is created \n",
    "print(f\"Database created: {os.listdir(database_dir)}\")\n",
    "\n",
    "#show database\n",
    "\n",
    "def describe_table(curs, table_name):\n",
    "    curs.execute(f\"PRAGMA table_info({table_name})\")\n",
    "    return curs.fetchall()\n",
    "\n",
    "\n",
    "#check which databases are created\n",
    "curs.execute(\"SELECT name FROM sqlite_master WHERE type='table'\")\n",
    "tables = curs.fetchall()\n",
    "print(f\"Tables: {tables}\")\n",
    "\n",
    "table_structure = describe_table(curs, \"images\")\n",
    "table_structure\n"
   ]
  },
  {
   "cell_type": "code",
   "execution_count": null,
   "metadata": {},
   "outputs": [],
   "source": []
  },
  {
   "cell_type": "code",
   "execution_count": null,
   "metadata": {},
   "outputs": [],
   "source": [
    "#extract and insert\n",
    "\n",
    "\n",
    "insert_statement = (\"\"\"INSERT INTO images ('imageid', 'filepath', 'filename', 'color_similarity', 'embedding_similarity', 'third_similarity')\n",
    "             VALUES (?,?,?,?,?,?)\"\"\")\n",
    "\n",
    "#values = (imageid,filepath, filename, color_similarity, embedding_similarity, third_similarity)\n",
    "\n",
    "curs.execute(insert_statement,values)\n",
    "\n",
    "conn.commit()"
   ]
  }
 ],
 "metadata": {
  "kernelspec": {
   "display_name": "big_data",
   "language": "python",
   "name": "python3"
  },
  "language_info": {
   "codemirror_mode": {
    "name": "ipython",
    "version": 3
   },
   "file_extension": ".py",
   "mimetype": "text/x-python",
   "name": "python",
   "nbconvert_exporter": "python",
   "pygments_lexer": "ipython3",
   "version": "3.10.14"
  }
 },
 "nbformat": 4,
 "nbformat_minor": 2
}
