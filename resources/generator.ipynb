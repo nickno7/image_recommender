{
 "cells": [
  {
   "cell_type": "code",
   "execution_count": 1,
   "metadata": {},
   "outputs": [],
   "source": [
    "import sqlite3\n",
    "import os\n",
    "import cv2 as cv \n",
    "from PIL import Image"
   ]
  },
  {
   "cell_type": "markdown",
   "metadata": {},
   "source": [
    "## **CREATE TABLES**\n",
    "--------------------------------------------"
   ]
  },
  {
   "cell_type": "code",
   "execution_count": 2,
   "metadata": {},
   "outputs": [],
   "source": [
    "# def create_table(dirname, filename):\n",
    "#     #set paths and create dir where database is stored\n",
    "#     database_path = os.path.join(os.pardir, dirname, filename)\n",
    "#     database_dir_path = os.path.dirname(database_path)\n",
    "\n",
    "#     if not os.path.exists(database_dir_path):\n",
    "#         os.makedirs(database_path)\n",
    "\n",
    "#     #create database connection\n",
    "#     conn = sqlite3.connect(database_path)\n",
    "#     curs = conn.cursor()\n",
    "\n",
    "#     create_table_statement = \"\"\"CREATE TABLE if not exists images\n",
    "#                 (imageid INTEGER PRIMARY KEY,\n",
    "#                  filepath text not null,\n",
    "#                  filename text not null\n",
    "#                  resolution text not null\n",
    "#                  );\"\"\"\n",
    "    \n",
    "#     curs.execute(create_table_statement)\n",
    "\n",
    "#     conn.commit()\n",
    "\n",
    "#     conn.close()\n",
    "\n",
    "    "
   ]
  },
  {
   "cell_type": "code",
   "execution_count": 3,
   "metadata": {},
   "outputs": [],
   "source": [
    "#create path\n",
    "database_path = os.path.join(os.pardir, \"databases\", \"image_recommender.db\")\n",
    "database_dir = os.path.dirname(database_path)\n",
    "\n",
    "if not os.path.exists(database_dir):\n",
    "    os.makedirs(database_dir)\n",
    "\n",
    "conn = sqlite3.connect(database_path)\n",
    "curs = conn.cursor()"
   ]
  },
  {
   "cell_type": "code",
   "execution_count": 4,
   "metadata": {},
   "outputs": [],
   "source": [
    "#delete table if needed \n",
    "table_name = [\"images\", \"measures\"]\n",
    "\n",
    "for name in table_name:\n",
    "    curs.execute(f\"DROP TABLE if exists {name}\")"
   ]
  },
  {
   "cell_type": "code",
   "execution_count": 5,
   "metadata": {},
   "outputs": [],
   "source": [
    "#create table paths\n",
    "create_table = curs.execute(\"\"\"CREATE TABLE if not exists images\n",
    "             (imageid INTEGER PRIMARY KEY,\n",
    "             filepath text not null,\n",
    "             filename text not null,\n",
    "             size real \n",
    "             );\"\"\")\n",
    "\n",
    "conn.commit()"
   ]
  },
  {
   "cell_type": "markdown",
   "metadata": {},
   "source": [
    "## **FETCH DATA FROM HARDDRIVE**\n",
    "-----------------------------------"
   ]
  },
  {
   "cell_type": "code",
   "execution_count": 6,
   "metadata": {},
   "outputs": [
    {
     "name": "stdout",
     "output_type": "stream",
     "text": [
      "True\n"
     ]
    }
   ],
   "source": [
    "#check path to harddrive\n",
    "root_dir = \"F:\\data\\image_data\"\n",
    "if os.path.exists(root_dir):\n",
    "    print(True)"
   ]
  },
  {
   "cell_type": "code",
   "execution_count": 7,
   "metadata": {},
   "outputs": [],
   "source": [
    "#get resolution\n",
    "def get_image_size(image_path):\n",
    "    with Image.open(image_path) as img:\n",
    "        size= img.size\n",
    "    return size"
   ]
  },
  {
   "cell_type": "code",
   "execution_count": 8,
   "metadata": {},
   "outputs": [],
   "source": [
    "#generator\n",
    "def load_images_from_harddrive(root_dir):\n",
    "    for root, dirs, files in os.walk(root_dir):\n",
    "        for file in files:\n",
    "            if file.lower().endswith((\".jpg\", \".png\", \".jpeg\")):\n",
    "                #size = get_image_size(os.path.join(root, file))\n",
    "                yield root, file, size\n",
    "\n",
    "gen = load_images_from_harddrive(root_dir)\n"
   ]
  },
  {
   "cell_type": "code",
   "execution_count": 9,
   "metadata": {},
   "outputs": [],
   "source": [
    "next(gen)"
   ]
  },
  {
   "cell_type": "markdown",
   "metadata": {},
   "source": [
    "## **INSERT DATA INTO DATABASE**\n",
    "--------------------"
   ]
  },
  {
   "cell_type": "code",
   "execution_count": 10,
   "metadata": {},
   "outputs": [],
   "source": [
    "# imageid = 0\n",
    "\n",
    "# for root, file in load_images_from_harddrive(root_dir):\n",
    "#     filepath = root\n",
    "#     filename = file\n",
    "    \n",
    "#     curs.execute(f\"INSERT INTO IMAGES ('imageid', 'filepath', 'filename') VALUES (?,?, ?)\", (imageid, filepath,filename))\n",
    "#     conn.commit()\n",
    "#     imageid += 1\n",
    "\n",
    "# conn.close()"
   ]
  },
  {
   "cell_type": "code",
   "execution_count": 12,
   "metadata": {},
   "outputs": [],
   "source": [
    "#gen with limit to test\n",
    "imageid = 0\n",
    "\n",
    "for _ in range(10):\n",
    "    root, file, size = next(gen)  \n",
    "    curs.execute(f\"INSERT INTO IMAGES ('imageid', 'filepath', 'filename', 'size') VALUES (?,?,?,?)\", (imageid, root, file, size))\n",
    "    conn.commit()\n",
    "    imageid += 1"
   ]
  },
  {
   "cell_type": "markdown",
   "metadata": {},
   "source": [
    "## **TEST IF WORKED**\n",
    "---------------"
   ]
  },
  {
   "cell_type": "code",
   "execution_count": null,
   "metadata": {},
   "outputs": [],
   "source": [
    "# check if table is created \n",
    "print(f\"Database created: {os.listdir(database_dir)}\")\n",
    "\n",
    "#show database\n",
    "\n",
    "def describe_table(curs, table_name):\n",
    "    curs.execute(f\"PRAGMA table_info({table_name})\")\n",
    "    return curs.fetchall()\n",
    "\n",
    "\n",
    "#check which databases are created\n",
    "curs.execute(\"SELECT name FROM sqlite_master WHERE type='table'\")\n",
    "tables = curs.fetchall()\n",
    "print(f\"Tables: {tables}\")\n",
    "\n",
    "table_structure = describe_table(curs, \"images\")\n",
    "table_structure"
   ]
  },
  {
   "cell_type": "code",
   "execution_count": null,
   "metadata": {},
   "outputs": [],
   "source": [
    "#test to retrieve pictures from database\n",
    "curs.execute(f\"SELECT filepath, filename FROM IMAGES\")\n",
    "firstpic = curs.fetchall()[0]\n",
    "path = os.path.join(firstpic[0], firstpic[1])\n",
    "image = Image.open(path)\n",
    "image.show()"
   ]
  },
  {
   "cell_type": "code",
   "execution_count": 10,
   "metadata": {},
   "outputs": [],
   "source": [
    "#delete all from table\n",
    "\n",
    "curs.execute(\"DELETE FROM IMAGES\")\n",
    "conn.commit()"
   ]
  },
  {
   "cell_type": "code",
   "execution_count": 11,
   "metadata": {},
   "outputs": [
    {
     "data": {
      "text/plain": [
       "[]"
      ]
     },
     "execution_count": 11,
     "metadata": {},
     "output_type": "execute_result"
    }
   ],
   "source": [
    "# select \n",
    "\n",
    "curs.execute(\"SELECT * FROM IMAGES \")\n",
    "curs.fetchall()"
   ]
  },
  {
   "cell_type": "code",
   "execution_count": null,
   "metadata": {},
   "outputs": [],
   "source": []
  }
 ],
 "metadata": {
  "kernelspec": {
   "display_name": "big_data",
   "language": "python",
   "name": "python3"
  },
  "language_info": {
   "codemirror_mode": {
    "name": "ipython",
    "version": 3
   },
   "file_extension": ".py",
   "mimetype": "text/x-python",
   "name": "python",
   "nbconvert_exporter": "python",
   "pygments_lexer": "ipython3",
   "version": "3.10.14"
  }
 },
 "nbformat": 4,
 "nbformat_minor": 2
}
