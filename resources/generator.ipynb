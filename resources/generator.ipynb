{
 "cells": [
  {
   "cell_type": "code",
   "execution_count": 2,
   "metadata": {},
   "outputs": [],
   "source": [
    "import sqlite3\n",
    "import os"
   ]
  },
  {
   "cell_type": "code",
   "execution_count": 7,
   "metadata": {},
   "outputs": [],
   "source": [
    "#create path\n",
    "database_path = os.path.join(os.pardir, \"databases\", \"image_recommender.db\")\n",
    "database_dir = os.path.dirname(database_path)\n",
    "\n",
    "if not os.path.exists(database_dir):\n",
    "    os.makedirs(database_dir)\n",
    "\n",
    "conn = sqlite3.connect(database_path)\n",
    "curs = conn.cursor()"
   ]
  },
  {
   "cell_type": "code",
   "execution_count": 8,
   "metadata": {},
   "outputs": [],
   "source": [
    "#create table\n",
    "create_table = curs.execute(\"\"\"CREATE TABLE if not exists images\n",
    "             (imageid INTEGER PRIMARY KEY,\n",
    "             filepath text not null,\n",
    "             filename text not null,\n",
    "             color_similarity text,\n",
    "             embedding_similarity text,\n",
    "             third_similarity text);\"\"\")\n",
    "\n",
    "conn.commit()\n"
   ]
  },
  {
   "cell_type": "code",
   "execution_count": 13,
   "metadata": {},
   "outputs": [
    {
     "data": {
      "text/plain": [
       "['image_recommender.db']"
      ]
     },
     "execution_count": 13,
     "metadata": {},
     "output_type": "execute_result"
    }
   ],
   "source": [
    "# check if table is created \n",
    "os.listdir(database_dir)"
   ]
  },
  {
   "cell_type": "code",
   "execution_count": null,
   "metadata": {},
   "outputs": [],
   "source": [
    "#extract and insert\n",
    "\n",
    "\n",
    "insert_statement = (\"\"\"INSERT INTO images ('imageid', 'filepath', 'filename', 'color_similarity', 'embedding_similarity', 'third_similarity')\n",
    "             VALUES (?,?,?,?,?,?)\"\"\")\n",
    "\n",
    "#values = (imageid,filepath, filename, color_similarity, embedding_similarity, third_similarity)\n",
    "\n",
    "curs.execute(insert_statement,values)\n",
    "\n",
    "conn.commit()"
   ]
  }
 ],
 "metadata": {
  "kernelspec": {
   "display_name": "big_data",
   "language": "python",
   "name": "python3"
  },
  "language_info": {
   "codemirror_mode": {
    "name": "ipython",
    "version": 3
   },
   "file_extension": ".py",
   "mimetype": "text/x-python",
   "name": "python",
   "nbconvert_exporter": "python",
   "pygments_lexer": "ipython3",
   "version": "3.10.14"
  }
 },
 "nbformat": 4,
 "nbformat_minor": 2
}
