{
 "cells": [
  {
   "cell_type": "code",
   "execution_count": 5,
   "metadata": {},
   "outputs": [
    {
     "name": "stdout",
     "output_type": "stream",
     "text": [
      "read images\n"
     ]
    },
    {
     "data": {
      "application/vnd.jupyter.widget-view+json": {
       "model_id": "8db0295b476f44858f649aa235e416ed",
       "version_major": 2,
       "version_minor": 0
      },
      "text/plain": [
       "Processing images:   0%|          | 0/499999 [00:00<?, ?image/s]"
      ]
     },
     "metadata": {},
     "output_type": "display_data"
    }
   ],
   "source": [
    "import cv2\n",
    "import numpy as np\n",
    "import pandas as pd\n",
    "import os\n",
    "from tqdm.notebook import tqdm\n",
    "import pickle\n",
    "from color_embeddings import get_vector\n",
    "from sklearn.metrics.pairwise import cosine_similarity\n",
    "from autoencoder_resnet18 import img2vec\n",
    "from PIL import Image\n",
    "import matplotlib.pyplot as plt\n",
    "import sqlite3"
   ]
  },
  {
   "cell_type": "code",
   "execution_count": null,
   "metadata": {},
   "outputs": [],
   "source": [
    "# Database with the image metadata\n",
    "database_path = '/Volumes/T7 Shield 1/Uni/4. Semester/Big Data Engineering/image_database.db'\n",
    "table_name = 'image_database'\n",
    "\n",
    "# load color embeddings\n",
    "color_embeddings = pd.read_pickle(\"color_vectors.pkl\")\n",
    "\n",
    "# load image embeddings\n",
    "image_embeddings = pd.read_pickle(\"image_vectors.pkl\")"
   ]
  },
  {
   "cell_type": "code",
   "execution_count": null,
   "metadata": {},
   "outputs": [],
   "source": [
    "# function to display an image\n",
    "def show_image(image_path, title):\n",
    "    img = cv2.imread(image_path)\n",
    "    img = cv2.cvtColor(img, cv2.COLOR_BGR2RGB)\n",
    "    plt.figure(figsize=(5, 5))\n",
    "    plt.imshow(img)\n",
    "    plt.title(title)\n",
    "    plt.axis('off')\n",
    "    plt.show()"
   ]
  },
  {
   "cell_type": "code",
   "execution_count": null,
   "metadata": {},
   "outputs": [],
   "source": [
    "def get_image_path(database_path, table_name, image_id):\n",
    "    \"\"\"Get image path based on image id\"\"\"\n",
    "    with sqlite3.connect(database_path) as conn:\n",
    "        curs = conn.cursor()\n",
    "        curs.execute(f\"SELECT filepath, filename FROM {table_name} WHERE image_id = ?\", (image_id,))\n",
    "        result = curs.fetchone()  # Fetch the first matching row\n",
    "        filepath, filename = result\n",
    "        return os.path.join(filepath, filename)  # Combine the path and filename"
   ]
  },
  {
   "cell_type": "code",
   "execution_count": null,
   "metadata": {},
   "outputs": [],
   "source": [
    "def get_similar_images(image_path, mode, number_pictures):\n",
    "    \n",
    "    if mode == \"color\":\n",
    "        image_ids, vectors = zip(*color_embeddings.items())\n",
    "        embeddings = np.array(vectors)\n",
    "\n",
    "        # calculate color embedding for the input image\n",
    "        query_vector = get_vector(image_path)\n",
    "\n",
    "    elif mode == \"content\":\n",
    "        image_id, vectors = zip(*image_embeddings.items())\n",
    "        embeddings = np.array(vectors)\n",
    "\n",
    "        I = Image.open(image_path)\n",
    "        # calculate embedding for input image\n",
    "        query_vector = img2vec.getVec(I)\n",
    "    \n",
    "    # calculate similarity scores\n",
    "    scores = cosine_similarity([query_vector], embeddings)[0]\n",
    "    # Find the closest 10 vectors and their similarity scores\n",
    "    closest_indices = np.argsort(-scores)[:number_pictures]\n",
    "    closest_vectors = scores[closest_indices]\n",
    "\n",
    "    # find image IDs of the 10 most similar images\n",
    "    closest_image_ids = [image_ids[i] for i in closest_indices]\n",
    "\n",
    "    # display input image\n",
    "    show_image(image_path, \"Input Image\")\n",
    "\n",
    "    # find and display selected number of most similar images\n",
    "    for i in range(number_pictures):\n",
    "        closest_image_id = closest_image_ids[i]\n",
    "        closest_score = closest_vectors[i]\n",
    "        \n",
    "        # get image path and set title\n",
    "        image_path = get_image_path(database_path, table_name, closest_image_id)\n",
    "        title = f\"ID: {closest_image_id}, Score: {closest_score:.2f}\"\n",
    "\n",
    "        # display most similar image\n",
    "        show_image(image_path, title)"
   ]
  }
 ],
 "metadata": {
  "kernelspec": {
   "display_name": "big_data",
   "language": "python",
   "name": "python3"
  },
  "language_info": {
   "codemirror_mode": {
    "name": "ipython",
    "version": 3
   },
   "file_extension": ".py",
   "mimetype": "text/x-python",
   "name": "python",
   "nbconvert_exporter": "python",
   "pygments_lexer": "ipython3",
   "version": "3.10.14"
  },
  "orig_nbformat": 4,
  "vscode": {
   "interpreter": {
    "hash": "0bdaefcae4d51edb36d86ee85f4d80bbd9d83be5667bbb44a0151f245a70396e"
   }
  }
 },
 "nbformat": 4,
 "nbformat_minor": 2
}
