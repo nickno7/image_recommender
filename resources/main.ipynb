{
 "cells": [
  {
   "cell_type": "code",
   "execution_count": 2,
   "metadata": {},
   "outputs": [],
   "source": [
    "import sqlite3\n",
    "import os\n",
    "import cv2 as cv \n",
    "from PIL import Image\n",
    "from database import create_table, insert_data_into_table\n",
    "from generator import load_images_from_harddrive\n",
    "from config import DATABASE_PATH, IMAGEPATH_HARDDRIVE, TABLE_NAME"
   ]
  },
  {
   "cell_type": "code",
   "execution_count": 3,
   "metadata": {},
   "outputs": [
    {
     "name": "stdout",
     "output_type": "stream",
     "text": [
      "True\n"
     ]
    }
   ],
   "source": [
    "#check path to harddrive,\n",
    "root_dir = \"F:\\\\data\\\\image_data\"\n",
    "if os.path.exists(root_dir):\n",
    "    print(True)\n",
    "else:\n",
    "    print(False)"
   ]
  },
  {
   "cell_type": "markdown",
   "metadata": {},
   "source": [
    "### **MAIN**\n",
    "-------"
   ]
  },
  {
   "cell_type": "code",
   "execution_count": null,
   "metadata": {},
   "outputs": [],
   "source": [
    "def main(root_dir=IMAGEPATH_HARDDRIVE, database_path=DATABASE_PATH, table_name=TABLE_NAME, imageid=0):\n",
    "    create_table(database_path, table_name)\n",
    "\n",
    "    for image_data in load_images_from_harddrive(root_dir):\n",
    "        insert_data_into_table(database_path, table_name, imageid, image_data=image_data)\n",
    "        imageid += 1\n",
    "\n",
    "        if imageid >= 10:\n",
    "            break"
   ]
  },
  {
   "cell_type": "code",
   "execution_count": null,
   "metadata": {},
   "outputs": [],
   "source": [
    "if __name__ == \"__main__\":\n",
    "    main()"
   ]
  },
  {
   "cell_type": "code",
   "execution_count": null,
   "metadata": {},
   "outputs": [],
   "source": [
    "# def main(root_dir, database_path, imageid=0):\n",
    "\n",
    "#     conn = sqlite3.connect(database_path)\n",
    "#     curs = conn.cursor()\n",
    "    \n",
    "#     for root, file, size  in load_images_from_harddrive(root_dir):\n",
    "#         curs.execute(\"INSERT INTO IMAGES ('imageid', 'filepath', 'filename', 'size') VALUES (?,?,?,?)\", (imageid, root, file, size))\n",
    "#         conn.commit()\n",
    "#         imageid += 1\n",
    "\n",
    "#         if imageid == 200:\n",
    "#             break\n",
    "\n",
    "#     conn.close()"
   ]
  }
 ],
 "metadata": {
  "kernelspec": {
   "display_name": "base",
   "language": "python",
   "name": "python3"
  },
  "language_info": {
   "codemirror_mode": {
    "name": "ipython",
    "version": 3
   },
   "file_extension": ".py",
   "mimetype": "text/x-python",
   "name": "python",
   "nbconvert_exporter": "python",
   "pygments_lexer": "ipython3",
   "version": "3.10.14"
  }
 },
 "nbformat": 4,
 "nbformat_minor": 2
}
